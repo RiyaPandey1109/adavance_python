{
 "cells": [
  {
   "cell_type": "code",
   "execution_count": 1,
   "id": "74ffa950-00da-414c-967b-4765f0c77b11",
   "metadata": {},
   "outputs": [
    {
     "name": "stdout",
     "output_type": "stream",
     "text": [
      "[-1.42174837  0.97875693]\n",
      "[[-0.71187929 -0.66924573  0.43149572 -1.23291313 -0.86535897]\n",
      " [-0.29310376  0.15407769 -0.8358243   0.80515346  0.91778654]\n",
      " [-0.09471007 -0.92657447  1.91992927  0.56775971  1.27842774]\n",
      " [ 0.16737853 -0.0465488   1.00279189 -0.58447728 -0.33091142]\n",
      " [-2.73666326 -1.40361013 -0.32839372  0.44430027 -0.56107393]]\n"
     ]
    }
   ],
   "source": [
    "import numpy as np\n",
    "arr=np.random.randn(2)\n",
    "arr1=np.random.randn(5,5)\n",
    "print(arr)\n",
    "print(arr1)"
   ]
  },
  {
   "cell_type": "code",
   "execution_count": 2,
   "id": "63eb1647-6952-4799-bc66-0706712be9c6",
   "metadata": {},
   "outputs": [
    {
     "ename": "ValueError",
     "evalue": "low >= high",
     "output_type": "error",
     "traceback": [
      "\u001b[1;31m---------------------------------------------------------------------------\u001b[0m",
      "\u001b[1;31mValueError\u001b[0m                                Traceback (most recent call last)",
      "Cell \u001b[1;32mIn[2], line 2\u001b[0m\n\u001b[0;32m      1\u001b[0m arr\u001b[38;5;241m=\u001b[39mnp\u001b[38;5;241m.\u001b[39mrandom\u001b[38;5;241m.\u001b[39mrandint(\u001b[38;5;241m2\u001b[39m)\n\u001b[1;32m----> 2\u001b[0m arr1\u001b[38;5;241m=\u001b[39m\u001b[43mnp\u001b[49m\u001b[38;5;241;43m.\u001b[39;49m\u001b[43mrandom\u001b[49m\u001b[38;5;241;43m.\u001b[39;49m\u001b[43mrandint\u001b[49m\u001b[43m(\u001b[49m\u001b[38;5;241;43m5\u001b[39;49m\u001b[43m,\u001b[49m\u001b[38;5;241;43m5\u001b[39;49m\u001b[43m)\u001b[49m\n\u001b[0;32m      3\u001b[0m \u001b[38;5;28mprint\u001b[39m(arr)\n\u001b[0;32m      4\u001b[0m \u001b[38;5;28mprint\u001b[39m(arr1)\n",
      "File \u001b[1;32mmtrand.pyx:746\u001b[0m, in \u001b[0;36mnumpy.random.mtrand.RandomState.randint\u001b[1;34m()\u001b[0m\n",
      "File \u001b[1;32m_bounded_integers.pyx:1338\u001b[0m, in \u001b[0;36mnumpy.random._bounded_integers._rand_int32\u001b[1;34m()\u001b[0m\n",
      "\u001b[1;31mValueError\u001b[0m: low >= high"
     ]
    }
   ],
   "source": [
    "arr=np.random.randint(2)\n",
    "arr1=np.random.randint(5,5)\n",
    "print(arr)\n",
    "print(arr1)"
   ]
  },
  {
   "cell_type": "code",
   "execution_count": 3,
   "id": "c2857fe6-88b0-405a-b2d0-662986456097",
   "metadata": {},
   "outputs": [
    {
     "name": "stdout",
     "output_type": "stream",
     "text": [
      "0\n",
      "[54 57 98  3 44 17 74 49  4 39]\n"
     ]
    }
   ],
   "source": [
    "arr=np.random.randint(2)\n",
    "arr1=np.random.randint(1,100,10)\n",
    "print(arr)\n",
    "print(arr1)"
   ]
  },
  {
   "cell_type": "code",
   "execution_count": 4,
   "id": "bddb60c3-6c16-4b89-898d-daf54e7a5c3f",
   "metadata": {},
   "outputs": [
    {
     "name": "stdout",
     "output_type": "stream",
     "text": [
      "73\n",
      "[49 32 60 57 55 91 30  2 34 52]\n"
     ]
    }
   ],
   "source": [
    "arr=np.random.randint(1,100)\n",
    "arr1=np.random.randint(1,100,10)\n",
    "print(arr)\n",
    "print(arr1) "
   ]
  },
  {
   "cell_type": "code",
   "execution_count": 5,
   "id": "34d6a794-9933-4738-84a4-471cd418b132",
   "metadata": {},
   "outputs": [
    {
     "ename": "AttributeError",
     "evalue": "'int' object has no attribute 'itemsize'",
     "output_type": "error",
     "traceback": [
      "\u001b[1;31m---------------------------------------------------------------------------\u001b[0m",
      "\u001b[1;31mAttributeError\u001b[0m                            Traceback (most recent call last)",
      "Cell \u001b[1;32mIn[5], line 1\u001b[0m\n\u001b[1;32m----> 1\u001b[0m \u001b[38;5;28mprint\u001b[39m(\u001b[43marr\u001b[49m\u001b[38;5;241;43m.\u001b[39;49m\u001b[43mitemsize\u001b[49m)\n",
      "\u001b[1;31mAttributeError\u001b[0m: 'int' object has no attribute 'itemsize'"
     ]
    }
   ],
   "source": [
    "print(arr.itemsize)"
   ]
  },
  {
   "cell_type": "code",
   "execution_count": 6,
   "id": "e26d8643-26e2-44aa-a00d-57f7f30e897e",
   "metadata": {},
   "outputs": [
    {
     "name": "stdout",
     "output_type": "stream",
     "text": [
      "4\n"
     ]
    }
   ],
   "source": [
    "arr=np.array([1,2,3,4,5])\n",
    "print(arr.itemsize)"
   ]
  },
  {
   "cell_type": "code",
   "execution_count": 7,
   "id": "360a03f9-7fbb-4e89-9394-b0a3a60af4ad",
   "metadata": {},
   "outputs": [
    {
     "name": "stdout",
     "output_type": "stream",
     "text": [
      "4\n"
     ]
    }
   ],
   "source": [
    "print(arr.itemsize)"
   ]
  },
  {
   "cell_type": "code",
   "execution_count": 8,
   "id": "1f22cf58-b672-489d-bbd6-8fc6a4b4cf6c",
   "metadata": {},
   "outputs": [
    {
     "name": "stdout",
     "output_type": "stream",
     "text": [
      "28\n"
     ]
    }
   ],
   "source": [
    "x=np.array([\" Riya\",\" Sankul\"])\n",
    "print(x.itemsize)"
   ]
  },
  {
   "cell_type": "code",
   "execution_count": 9,
   "id": "feb2a3a3-69f2-4088-b1ad-518deef8b55d",
   "metadata": {},
   "outputs": [
    {
     "name": "stdout",
     "output_type": "stream",
     "text": [
      "5\n"
     ]
    }
   ],
   "source": [
    "arr=np.array([1,2,3,4,5])\n",
    "print(arr.max())"
   ]
  },
  {
   "cell_type": "code",
   "execution_count": 10,
   "id": "40a40365-06f2-430e-a59d-23910861975c",
   "metadata": {},
   "outputs": [
    {
     "name": "stdout",
     "output_type": "stream",
     "text": [
      "5\n",
      "4\n",
      "1\n",
      "0\n"
     ]
    }
   ],
   "source": [
    "arr=np.array([1,2,3,4,5])\n",
    "print(arr.max())\n",
    "print(arr.argmax())\n",
    "print(arr.min())\n",
    "print(arr.argmin())"
   ]
  },
  {
   "cell_type": "code",
   "execution_count": 11,
   "id": "db1659ed-a838-49c2-9b11-e420b72a696e",
   "metadata": {},
   "outputs": [
    {
     "name": "stdout",
     "output_type": "stream",
     "text": [
      "(5,)\n"
     ]
    }
   ],
   "source": [
    "print(arr.shape)"
   ]
  },
  {
   "cell_type": "code",
   "execution_count": 12,
   "id": "61a6236a-68f3-42de-be16-4829251895c8",
   "metadata": {},
   "outputs": [
    {
     "ename": "ValueError",
     "evalue": "cannot reshape array of size 5 into shape (1,25)",
     "output_type": "error",
     "traceback": [
      "\u001b[1;31m---------------------------------------------------------------------------\u001b[0m",
      "\u001b[1;31mValueError\u001b[0m                                Traceback (most recent call last)",
      "Cell \u001b[1;32mIn[12], line 1\u001b[0m\n\u001b[1;32m----> 1\u001b[0m \u001b[38;5;28mprint\u001b[39m(\u001b[43marr\u001b[49m\u001b[38;5;241;43m.\u001b[39;49m\u001b[43mreshape\u001b[49m\u001b[43m(\u001b[49m\u001b[38;5;241;43m1\u001b[39;49m\u001b[43m,\u001b[49m\u001b[38;5;241;43m25\u001b[39;49m\u001b[43m)\u001b[49m)\n",
      "\u001b[1;31mValueError\u001b[0m: cannot reshape array of size 5 into shape (1,25)"
     ]
    }
   ],
   "source": [
    "print(arr.reshape(1,25))"
   ]
  },
  {
   "cell_type": "code",
   "execution_count": 14,
   "id": "626ad9bb-2dc5-48fd-877e-3503ba5c6f74",
   "metadata": {},
   "outputs": [
    {
     "name": "stdout",
     "output_type": "stream",
     "text": [
      "[[5 6 7]\n",
      " [6 7 8]\n",
      " [7 8 9]]\n",
      "(3, 3)\n"
     ]
    }
   ],
   "source": [
    "arr1=np.array([1,2,3])\n",
    "arr2=np.array([[4],[5],[6]])\n",
    "arr3=arr1+arr2\n",
    "print(arr3)\n",
    "print(arr3.shape)"
   ]
  },
  {
   "cell_type": "code",
   "execution_count": 18,
   "id": "1b63f41d-b0ed-4e3e-9432-a201d22ea089",
   "metadata": {},
   "outputs": [
    {
     "name": "stdout",
     "output_type": "stream",
     "text": [
      "[[ 0  1  2  3  4  5]\n",
      " [ 6  7  8  9 10 11]\n",
      " [12 13 14 15 16 17]\n",
      " [18 19 20 21 22 23]]\n",
      "[ 0  1  2  3  4  5  6  7  8  9 10 11 12 13 14 15 16 17 18 19 20 21 22 23]\n",
      "[[[ 0  1  2]\n",
      "  [ 3  4  5]\n",
      "  [ 6  7  8]\n",
      "  [ 9 10 11]]\n",
      "\n",
      " [[12 13 14]\n",
      "  [15 16 17]\n",
      "  [18 19 20]\n",
      "  [21 22 23]]]\n"
     ]
    }
   ],
   "source": [
    "b=np.arange(24)\n",
    "c=b.reshape(2,4,3)\n",
    "a=b.reshape(4,6)\n",
    "print(a)\n",
    "print(b)\n",
    "print(c)"
   ]
  },
  {
   "cell_type": "code",
   "execution_count": 26,
   "id": "286de15f-4809-40fa-9425-dfa7e2f026cf",
   "metadata": {},
   "outputs": [
    {
     "name": "stdout",
     "output_type": "stream",
     "text": [
      "[[ 5 10 15]\n",
      " [20 25 30]\n",
      " [35 40 45]]\n",
      "[20 25 30]\n",
      "20\n",
      "20\n",
      "Silicing= [[10 15]\n",
      " [25 30]]\n",
      "[35 40 45]\n"
     ]
    }
   ],
   "source": [
    "arr_2d=np.array(([5,10,15],[20,25,30],[35,40,45]))\n",
    "print(arr_2d)\n",
    "print(arr_2d[1])\n",
    "print(arr_2d[1][0])\n",
    "print(arr_2d[1,0])\n",
    "print(\"Silicing=\",arr_2d[:2,1:])\n",
    "print(arr_2d[2])"
   ]
  },
  {
   "cell_type": "code",
   "execution_count": 23,
   "id": "37c03bc9-51fa-4862-9f1f-64a4b4d1fcd0",
   "metadata": {},
   "outputs": [
    {
     "name": "stdout",
     "output_type": "stream",
     "text": [
      "[ 1  2  3  4  5  6  7  8  9 10]\n",
      "[ 5  6  7  8  9 10]\n"
     ]
    }
   ],
   "source": [
    "arr=np.arange(1,11)\n",
    "print(arr>4)\n",
    "bool_arr=arr>4\n",
    "arr[bool_arr]\n",
    "print(arr)\n",
    "print(arr[bool_arr])"
   ]
  },
  {
   "cell_type": "code",
   "execution_count": 24,
   "id": "75a1f22b-5f41-4eb4-a259-94dd1d9c7640",
   "metadata": {},
   "outputs": [
    {
     "name": "stdout",
     "output_type": "stream",
     "text": [
      "[ 3  4  5  6  7  8  9 10]\n"
     ]
    }
   ],
   "source": [
    "print(arr[arr>2])"
   ]
  },
  {
   "cell_type": "code",
   "execution_count": 25,
   "id": "82cb11d2-2380-4a1f-8123-7b586bb8484b",
   "metadata": {},
   "outputs": [
    {
     "name": "stdout",
     "output_type": "stream",
     "text": [
      "[1]\n"
     ]
    }
   ],
   "source": [
    "print(arr[arr<2])"
   ]
  },
  {
   "cell_type": "code",
   "execution_count": 27,
   "id": "c1113afb-f61b-4a40-925e-98fe65548da9",
   "metadata": {},
   "outputs": [
    {
     "name": "stdout",
     "output_type": "stream",
     "text": [
      "[False False False False  True  True  True  True  True  True]\n",
      "[ 1  2  3  4  5  6  7  8  9 10]\n",
      "[ 5  6  7  8  9 10]\n"
     ]
    }
   ],
   "source": [
    "arr=np.arange(1,11)\n",
    "print(arr>4)\n",
    "bool_arr=arr>4\n",
    "arr[bool_arr]\n",
    "print(arr)\n",
    "print(arr[bool_arr])"
   ]
  },
  {
   "cell_type": "code",
   "execution_count": 28,
   "id": "2e60fb20-e99b-4b45-bb2b-a1ac0a6f8acc",
   "metadata": {},
   "outputs": [],
   "source": [
    "import pandas as ap"
   ]
  },
  {
   "cell_type": "code",
   "execution_count": 33,
   "id": "6c3f5a69-3573-4fd5-95c7-85c2bd22a2d8",
   "metadata": {},
   "outputs": [
    {
     "name": "stdout",
     "output_type": "stream",
     "text": [
      "A    10\n",
      "B    20\n",
      "C    30\n",
      "D    40\n",
      "E    50\n",
      "dtype: int64\n",
      "1.4.3\n"
     ]
    }
   ],
   "source": [
    "import pandas as pd\n",
    "data=[10,20,30,40,50]\n",
    "index=['A','B','C','D','E']\n",
    "series=pd.Series( data,index=index)\n",
    "print(series)\n",
    "print(pd.__version__)"
   ]
  },
  {
   "cell_type": "code",
   "execution_count": 38,
   "id": "f6a53f66-cdb1-4bf4-aa82-c727214e2f0a",
   "metadata": {},
   "outputs": [
    {
     "name": "stdout",
     "output_type": "stream",
     "text": [
      "0    10\n",
      "1    20\n",
      "2    30\n",
      "dtype: int64\n",
      "a    10\n",
      "b    20\n",
      "c    30\n",
      "dtype: int64\n",
      "0    10\n",
      "1    20\n",
      "2    30\n",
      "dtype: int32\n",
      "a    10\n",
      "b    20\n",
      "c    30\n",
      "dtype: int64\n",
      "a    10\n",
      "b    20\n",
      "c    30\n",
      "dtype: int64\n",
      "100    a\n",
      "101    b\n",
      "102    c\n",
      "103    d\n",
      "dtype: object\n"
     ]
    }
   ],
   "source": [
    "import numpy as np\n",
    "import pandas as pd\n",
    "labels=['a','b','c']\n",
    "my_list=[10,20,30]\n",
    "arr=np.array([10,20,30])\n",
    "d={'a':10,'b':20,'c':30}\n",
    "#using lists\n",
    "print(pd.Series(data=my_list))\n",
    "print(pd.Series(data=my_list,index=labels))\n",
    "print(pd.Series(arr))\n",
    "print(pd.Series(d))\n",
    "print(pd.Series(d,labels))\n",
    "data=np.array(['a','b','c','d'])\n",
    "s=pd.Series(data,index=[100,101,102,103])\n",
    "print(s)"
   ]
  },
  {
   "cell_type": "code",
   "execution_count": 42,
   "id": "6a5a604a-28fe-477c-8c3a-5b9f45f13f6e",
   "metadata": {},
   "outputs": [
    {
     "name": "stdout",
     "output_type": "stream",
     "text": [
      "1\n",
      "GERMANY    8.0\n",
      "ITALY      NaN\n",
      "JAPAN      8.0\n",
      "USA        2.0\n",
      "USSR       NaN\n",
      "dtype: float64\n"
     ]
    }
   ],
   "source": [
    "ser1=pd.Series([1,2,3,4],index=['USA','GERMANY','USSR','JAPAN'])\n",
    "ser2=pd.Series([1,2,5,4],index=['USA','GERMANY','ITALY','JAPAN'])\n",
    "print(ser1['USA'])\n",
    "print(ser1+ser2)"
   ]
  },
  {
   "cell_type": "code",
   "execution_count": 45,
   "id": "03d8e571-79ef-40f3-a5c5-0581550724da",
   "metadata": {},
   "outputs": [
    {
     "name": "stdout",
     "output_type": "stream",
     "text": [
      "1\n",
      "1\n",
      "USA        False\n",
      "GERMANY    False\n",
      "USSR       False\n",
      "JAPAN      False\n",
      "dtype: bool\n"
     ]
    }
   ],
   "source": [
    "print(ser1.iloc[0])\n",
    "print(ser1.loc['USA'])\n",
    "print(ser1>20)"
   ]
  },
  {
   "cell_type": "code",
   "execution_count": 49,
   "id": "34bc4bd2-cd7c-44b8-a3e8-4eebe94de1b9",
   "metadata": {},
   "outputs": [
    {
     "name": "stdout",
     "output_type": "stream",
     "text": [
      "a   NaN\n",
      "b   NaN\n",
      "c   NaN\n",
      "d   NaN\n",
      "dtype: float64\n"
     ]
    }
   ],
   "source": [
    "new_index=['a','b','c','d']\n",
    "new_series=series.reindex(new_index)\n",
    "print(new_series)"
   ]
  },
  {
   "cell_type": "code",
   "execution_count": 50,
   "id": "93a6c5d9-8969-4eca-b8d3-d1686b34d98e",
   "metadata": {},
   "outputs": [
    {
     "name": "stdout",
     "output_type": "stream",
     "text": [
      "        0\n",
      "First   1\n",
      "Second  2\n",
      "Third   3\n",
      "Fourth  4\n",
      "Fifth   5\n"
     ]
    }
   ],
   "source": [
    "import pandas as pd\n",
    "data=[1,2,3,4,5]\n",
    "labels=['First','Second','Third','Fourth','Fifth']\n",
    "df=pd.DataFrame(data,labels)\n",
    "print(df)"
   ]
  },
  {
   "cell_type": "code",
   "execution_count": 52,
   "id": "709976b5-4f77-46b7-9d30-fb4a1d421150",
   "metadata": {},
   "outputs": [
    {
     "name": "stdout",
     "output_type": "stream",
     "text": [
      "    Name  Age      City\n",
      "0   Jhon   25  New York\n",
      "1  Alice   30    London\n",
      "2    Bob   35     Paris\n"
     ]
    }
   ],
   "source": [
    "data={'Name':['Jhon','Alice','Bob'],\n",
    "     'Age':[25,30,35],'City':['New York','London','Paris']}\n",
    "df=pd.DataFrame(data)\n",
    "print(df)"
   ]
  },
  {
   "cell_type": "code",
   "execution_count": 53,
   "id": "aa72dd41-3e74-4577-bc5a-cd49c7250c72",
   "metadata": {},
   "outputs": [
    {
     "name": "stdout",
     "output_type": "stream",
     "text": [
      "0     Jhon\n",
      "1    Alice\n",
      "2      Bob\n",
      "Name: Name, dtype: object\n"
     ]
    }
   ],
   "source": [
    "print(df['Name'])"
   ]
  },
  {
   "cell_type": "code",
   "execution_count": 54,
   "id": "c559ef1d-e000-4f89-9efd-e206ea785be5",
   "metadata": {},
   "outputs": [
    {
     "name": "stdout",
     "output_type": "stream",
     "text": [
      "0    25\n",
      "1    30\n",
      "2    35\n",
      "Name: Age, dtype: int64\n"
     ]
    }
   ],
   "source": [
    "print(df['Age'])"
   ]
  },
  {
   "cell_type": "code",
   "execution_count": 58,
   "id": "cd82814a-66a2-4d9c-892d-8cc7bd80e65e",
   "metadata": {},
   "outputs": [
    {
     "name": "stdout",
     "output_type": "stream",
     "text": [
      "    Name  Age\n",
      "0   Jhon   25\n",
      "1  Alice   30\n",
      "2    Bob   35\n"
     ]
    }
   ],
   "source": [
    "print(df[['Name','Age']])"
   ]
  },
  {
   "cell_type": "code",
   "execution_count": 69,
   "id": "800c2ae0-a80b-4504-8a24-cbea78f0c863",
   "metadata": {},
   "outputs": [
    {
     "data": {
      "text/html": [
       "<div>\n",
       "<style scoped>\n",
       "    .dataframe tbody tr th:only-of-type {\n",
       "        vertical-align: middle;\n",
       "    }\n",
       "\n",
       "    .dataframe tbody tr th {\n",
       "        vertical-align: top;\n",
       "    }\n",
       "\n",
       "    .dataframe thead th {\n",
       "        text-align: right;\n",
       "    }\n",
       "</style>\n",
       "<table border=\"1\" class=\"dataframe\">\n",
       "  <thead>\n",
       "    <tr style=\"text-align: right;\">\n",
       "      <th></th>\n",
       "      <th>W</th>\n",
       "      <th>X</th>\n",
       "      <th>Y</th>\n",
       "      <th>Z</th>\n",
       "      <th>new</th>\n",
       "    </tr>\n",
       "  </thead>\n",
       "  <tbody>\n",
       "    <tr>\n",
       "      <th>A</th>\n",
       "      <td>0.960672</td>\n",
       "      <td>-1.362492</td>\n",
       "      <td>-0.881918</td>\n",
       "      <td>0.035027</td>\n",
       "      <td>0.078754</td>\n",
       "    </tr>\n",
       "    <tr>\n",
       "      <th>B</th>\n",
       "      <td>0.039561</td>\n",
       "      <td>0.881111</td>\n",
       "      <td>-0.023240</td>\n",
       "      <td>1.672797</td>\n",
       "      <td>0.016321</td>\n",
       "    </tr>\n",
       "    <tr>\n",
       "      <th>C</th>\n",
       "      <td>-1.057075</td>\n",
       "      <td>0.440226</td>\n",
       "      <td>-0.459195</td>\n",
       "      <td>-1.209022</td>\n",
       "      <td>-1.516270</td>\n",
       "    </tr>\n",
       "    <tr>\n",
       "      <th>D</th>\n",
       "      <td>-0.704022</td>\n",
       "      <td>-1.719786</td>\n",
       "      <td>0.051095</td>\n",
       "      <td>-0.577503</td>\n",
       "      <td>-0.652927</td>\n",
       "    </tr>\n",
       "    <tr>\n",
       "      <th>E</th>\n",
       "      <td>-1.384259</td>\n",
       "      <td>-1.697912</td>\n",
       "      <td>1.276545</td>\n",
       "      <td>0.912201</td>\n",
       "      <td>-0.107714</td>\n",
       "    </tr>\n",
       "  </tbody>\n",
       "</table>\n",
       "</div>"
      ],
      "text/plain": [
       "          W         X         Y         Z       new\n",
       "A  0.960672 -1.362492 -0.881918  0.035027  0.078754\n",
       "B  0.039561  0.881111 -0.023240  1.672797  0.016321\n",
       "C -1.057075  0.440226 -0.459195 -1.209022 -1.516270\n",
       "D -0.704022 -1.719786  0.051095 -0.577503 -0.652927\n",
       "E -1.384259 -1.697912  1.276545  0.912201 -0.107714"
      ]
     },
     "execution_count": 69,
     "metadata": {},
     "output_type": "execute_result"
    }
   ],
   "source": [
    "#creating a new column\n",
    "from numpy.random import randn\n",
    "df=pd.DataFrame(randn(5,4),index='A B C D E'.split(),columns='W X Y Z'.split())\n",
    "df['new']=df['W']+df['Y']\n",
    "(df)\n"
   ]
  },
  {
   "cell_type": "code",
   "execution_count": 68,
   "id": "2f7127c3-1307-4722-a04d-ab9073177929",
   "metadata": {},
   "outputs": [
    {
     "data": {
      "text/html": [
       "<div>\n",
       "<style scoped>\n",
       "    .dataframe tbody tr th:only-of-type {\n",
       "        vertical-align: middle;\n",
       "    }\n",
       "\n",
       "    .dataframe tbody tr th {\n",
       "        vertical-align: top;\n",
       "    }\n",
       "\n",
       "    .dataframe thead th {\n",
       "        text-align: right;\n",
       "    }\n",
       "</style>\n",
       "<table border=\"1\" class=\"dataframe\">\n",
       "  <thead>\n",
       "    <tr style=\"text-align: right;\">\n",
       "      <th></th>\n",
       "      <th>W</th>\n",
       "      <th>X</th>\n",
       "      <th>Y</th>\n",
       "      <th>Z</th>\n",
       "    </tr>\n",
       "  </thead>\n",
       "  <tbody>\n",
       "    <tr>\n",
       "      <th>A</th>\n",
       "      <td>0.335004</td>\n",
       "      <td>0.249286</td>\n",
       "      <td>0.564544</td>\n",
       "      <td>2.069171</td>\n",
       "    </tr>\n",
       "    <tr>\n",
       "      <th>B</th>\n",
       "      <td>1.906928</td>\n",
       "      <td>-0.542916</td>\n",
       "      <td>-0.448430</td>\n",
       "      <td>-1.808642</td>\n",
       "    </tr>\n",
       "    <tr>\n",
       "      <th>C</th>\n",
       "      <td>-0.107699</td>\n",
       "      <td>0.029901</td>\n",
       "      <td>0.607763</td>\n",
       "      <td>-1.078261</td>\n",
       "    </tr>\n",
       "    <tr>\n",
       "      <th>D</th>\n",
       "      <td>0.232188</td>\n",
       "      <td>1.142049</td>\n",
       "      <td>-0.662631</td>\n",
       "      <td>-0.487857</td>\n",
       "    </tr>\n",
       "    <tr>\n",
       "      <th>E</th>\n",
       "      <td>-0.804471</td>\n",
       "      <td>0.084903</td>\n",
       "      <td>-0.557118</td>\n",
       "      <td>-0.390660</td>\n",
       "    </tr>\n",
       "  </tbody>\n",
       "</table>\n",
       "</div>"
      ],
      "text/plain": [
       "          W         X         Y         Z\n",
       "A  0.335004  0.249286  0.564544  2.069171\n",
       "B  1.906928 -0.542916 -0.448430 -1.808642\n",
       "C -0.107699  0.029901  0.607763 -1.078261\n",
       "D  0.232188  1.142049 -0.662631 -0.487857\n",
       "E -0.804471  0.084903 -0.557118 -0.390660"
      ]
     },
     "execution_count": 68,
     "metadata": {},
     "output_type": "execute_result"
    }
   ],
   "source": [
    "df.drop('new',axis=1)"
   ]
  },
  {
   "cell_type": "code",
   "execution_count": 73,
   "id": "3dfb7bed-46ac-49f0-ba40-6cb34e9770e3",
   "metadata": {},
   "outputs": [
    {
     "data": {
      "text/html": [
       "<div>\n",
       "<style scoped>\n",
       "    .dataframe tbody tr th:only-of-type {\n",
       "        vertical-align: middle;\n",
       "    }\n",
       "\n",
       "    .dataframe tbody tr th {\n",
       "        vertical-align: top;\n",
       "    }\n",
       "\n",
       "    .dataframe thead th {\n",
       "        text-align: right;\n",
       "    }\n",
       "</style>\n",
       "<table border=\"1\" class=\"dataframe\">\n",
       "  <thead>\n",
       "    <tr style=\"text-align: right;\">\n",
       "      <th></th>\n",
       "      <th>W</th>\n",
       "      <th>X</th>\n",
       "      <th>Y</th>\n",
       "      <th>Z</th>\n",
       "    </tr>\n",
       "  </thead>\n",
       "  <tbody>\n",
       "    <tr>\n",
       "      <th>A</th>\n",
       "      <td>0.960672</td>\n",
       "      <td>-1.362492</td>\n",
       "      <td>-0.881918</td>\n",
       "      <td>0.035027</td>\n",
       "    </tr>\n",
       "    <tr>\n",
       "      <th>B</th>\n",
       "      <td>0.039561</td>\n",
       "      <td>0.881111</td>\n",
       "      <td>-0.023240</td>\n",
       "      <td>1.672797</td>\n",
       "    </tr>\n",
       "    <tr>\n",
       "      <th>C</th>\n",
       "      <td>-1.057075</td>\n",
       "      <td>0.440226</td>\n",
       "      <td>-0.459195</td>\n",
       "      <td>-1.209022</td>\n",
       "    </tr>\n",
       "    <tr>\n",
       "      <th>D</th>\n",
       "      <td>-0.704022</td>\n",
       "      <td>-1.719786</td>\n",
       "      <td>0.051095</td>\n",
       "      <td>-0.577503</td>\n",
       "    </tr>\n",
       "    <tr>\n",
       "      <th>E</th>\n",
       "      <td>-1.384259</td>\n",
       "      <td>-1.697912</td>\n",
       "      <td>1.276545</td>\n",
       "      <td>0.912201</td>\n",
       "    </tr>\n",
       "  </tbody>\n",
       "</table>\n",
       "</div>"
      ],
      "text/plain": [
       "          W         X         Y         Z\n",
       "A  0.960672 -1.362492 -0.881918  0.035027\n",
       "B  0.039561  0.881111 -0.023240  1.672797\n",
       "C -1.057075  0.440226 -0.459195 -1.209022\n",
       "D -0.704022 -1.719786  0.051095 -0.577503\n",
       "E -1.384259 -1.697912  1.276545  0.912201"
      ]
     },
     "execution_count": 73,
     "metadata": {},
     "output_type": "execute_result"
    }
   ],
   "source": [
    "df"
   ]
  },
  {
   "cell_type": "code",
   "execution_count": 76,
   "id": "02970c6d-fc70-4b6d-832b-89a4781b2164",
   "metadata": {},
   "outputs": [
    {
     "data": {
      "text/html": [
       "<div>\n",
       "<style scoped>\n",
       "    .dataframe tbody tr th:only-of-type {\n",
       "        vertical-align: middle;\n",
       "    }\n",
       "\n",
       "    .dataframe tbody tr th {\n",
       "        vertical-align: top;\n",
       "    }\n",
       "\n",
       "    .dataframe thead th {\n",
       "        text-align: right;\n",
       "    }\n",
       "</style>\n",
       "<table border=\"1\" class=\"dataframe\">\n",
       "  <thead>\n",
       "    <tr style=\"text-align: right;\">\n",
       "      <th></th>\n",
       "      <th>W</th>\n",
       "      <th>X</th>\n",
       "      <th>Y</th>\n",
       "      <th>Z</th>\n",
       "    </tr>\n",
       "  </thead>\n",
       "  <tbody>\n",
       "    <tr>\n",
       "      <th>A</th>\n",
       "      <td>0.960672</td>\n",
       "      <td>-1.362492</td>\n",
       "      <td>-0.881918</td>\n",
       "      <td>0.035027</td>\n",
       "    </tr>\n",
       "    <tr>\n",
       "      <th>B</th>\n",
       "      <td>0.039561</td>\n",
       "      <td>0.881111</td>\n",
       "      <td>-0.023240</td>\n",
       "      <td>1.672797</td>\n",
       "    </tr>\n",
       "    <tr>\n",
       "      <th>D</th>\n",
       "      <td>-0.704022</td>\n",
       "      <td>-1.719786</td>\n",
       "      <td>0.051095</td>\n",
       "      <td>-0.577503</td>\n",
       "    </tr>\n",
       "    <tr>\n",
       "      <th>E</th>\n",
       "      <td>-1.384259</td>\n",
       "      <td>-1.697912</td>\n",
       "      <td>1.276545</td>\n",
       "      <td>0.912201</td>\n",
       "    </tr>\n",
       "  </tbody>\n",
       "</table>\n",
       "</div>"
      ],
      "text/plain": [
       "          W         X         Y         Z\n",
       "A  0.960672 -1.362492 -0.881918  0.035027\n",
       "B  0.039561  0.881111 -0.023240  1.672797\n",
       "D -0.704022 -1.719786  0.051095 -0.577503\n",
       "E -1.384259 -1.697912  1.276545  0.912201"
      ]
     },
     "execution_count": 76,
     "metadata": {},
     "output_type": "execute_result"
    }
   ],
   "source": [
    "df.drop('C')"
   ]
  },
  {
   "cell_type": "code",
   "execution_count": 87,
   "id": "b484bd1a-7a32-42a6-b8dd-c67aabbe3999",
   "metadata": {},
   "outputs": [
    {
     "data": {
      "text/html": [
       "<div>\n",
       "<style scoped>\n",
       "    .dataframe tbody tr th:only-of-type {\n",
       "        vertical-align: middle;\n",
       "    }\n",
       "\n",
       "    .dataframe tbody tr th {\n",
       "        vertical-align: top;\n",
       "    }\n",
       "\n",
       "    .dataframe thead th {\n",
       "        text-align: right;\n",
       "    }\n",
       "</style>\n",
       "<table border=\"1\" class=\"dataframe\">\n",
       "  <thead>\n",
       "    <tr style=\"text-align: right;\">\n",
       "      <th></th>\n",
       "      <th>W</th>\n",
       "      <th>X</th>\n",
       "      <th>Y</th>\n",
       "      <th>Z</th>\n",
       "    </tr>\n",
       "  </thead>\n",
       "  <tbody>\n",
       "    <tr>\n",
       "      <th>A</th>\n",
       "      <td>0.960672</td>\n",
       "      <td>-1.362492</td>\n",
       "      <td>-0.881918</td>\n",
       "      <td>0.035027</td>\n",
       "    </tr>\n",
       "    <tr>\n",
       "      <th>D</th>\n",
       "      <td>-0.704022</td>\n",
       "      <td>-1.719786</td>\n",
       "      <td>0.051095</td>\n",
       "      <td>-0.577503</td>\n",
       "    </tr>\n",
       "    <tr>\n",
       "      <th>E</th>\n",
       "      <td>-1.384259</td>\n",
       "      <td>-1.697912</td>\n",
       "      <td>1.276545</td>\n",
       "      <td>0.912201</td>\n",
       "    </tr>\n",
       "  </tbody>\n",
       "</table>\n",
       "</div>"
      ],
      "text/plain": [
       "          W         X         Y         Z\n",
       "A  0.960672 -1.362492 -0.881918  0.035027\n",
       "D -0.704022 -1.719786  0.051095 -0.577503\n",
       "E -1.384259 -1.697912  1.276545  0.912201"
      ]
     },
     "execution_count": 87,
     "metadata": {},
     "output_type": "execute_result"
    }
   ],
   "source": [
    "update_df=df.drop([df.index[1],df.index[2]])\n",
    "update_df"
   ]
  },
  {
   "cell_type": "code",
   "execution_count": 88,
   "id": "eb611912-fdc2-4a7c-a792-43f10cac590e",
   "metadata": {},
   "outputs": [
    {
     "data": {
      "text/plain": [
       "W    0.960672\n",
       "X   -1.362492\n",
       "Y   -0.881918\n",
       "Z    0.035027\n",
       "Name: A, dtype: float64"
      ]
     },
     "execution_count": 88,
     "metadata": {},
     "output_type": "execute_result"
    }
   ],
   "source": [
    "df.loc['A']"
   ]
  },
  {
   "cell_type": "code",
   "execution_count": 1,
   "id": "27a06a8c-1de0-4f94-b860-ad0e6da44414",
   "metadata": {},
   "outputs": [
    {
     "ename": "NameError",
     "evalue": "name 'df' is not defined",
     "output_type": "error",
     "traceback": [
      "\u001b[1;31m---------------------------------------------------------------------------\u001b[0m",
      "\u001b[1;31mNameError\u001b[0m                                 Traceback (most recent call last)",
      "Cell \u001b[1;32mIn[1], line 1\u001b[0m\n\u001b[1;32m----> 1\u001b[0m \u001b[43mdf\u001b[49m\u001b[38;5;241m.\u001b[39mloc[\u001b[38;5;124m'\u001b[39m\u001b[38;5;124mA\u001b[39m\u001b[38;5;124m'\u001b[39m]\n",
      "\u001b[1;31mNameError\u001b[0m: name 'df' is not defined"
     ]
    }
   ],
   "source": [
    "df.loc['A']\n"
   ]
  },
  {
   "cell_type": "code",
   "execution_count": null,
   "id": "2d34b1cd-27e5-454d-a7ee-3369edd2b156",
   "metadata": {},
   "outputs": [],
   "source": []
  }
 ],
 "metadata": {
  "kernelspec": {
   "display_name": "Python 3 (ipykernel)",
   "language": "python",
   "name": "python3"
  },
  "language_info": {
   "codemirror_mode": {
    "name": "ipython",
    "version": 3
   },
   "file_extension": ".py",
   "mimetype": "text/x-python",
   "name": "python",
   "nbconvert_exporter": "python",
   "pygments_lexer": "ipython3",
   "version": "3.10.6"
  }
 },
 "nbformat": 4,
 "nbformat_minor": 5
}
