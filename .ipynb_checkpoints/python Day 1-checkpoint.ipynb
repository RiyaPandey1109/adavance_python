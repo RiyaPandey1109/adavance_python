{
 "cells": [
  {
   "cell_type": "code",
   "execution_count": 1,
   "id": "0eb325f9-b05a-4dbc-a0c5-c8415ef785e0",
   "metadata": {},
   "outputs": [
    {
     "name": "stdin",
     "output_type": "stream",
     "text": [
      " Enter the first float number 4.5\n",
      " Enter the second float number 3.5\n"
     ]
    },
    {
     "name": "stdout",
     "output_type": "stream",
     "text": [
      "8.0\n"
     ]
    }
   ],
   "source": [
    "a=float(input(\" Enter the first float number\"))\n",
    "b=float(input(\" Enter the second float number\"))\n",
    "sum=a+b\n",
    "print(sum)"
   ]
  },
  {
   "cell_type": "code",
   "execution_count": 2,
   "id": "536b354a-2407-4f4c-8e2f-82aa429a7f97",
   "metadata": {},
   "outputs": [
    {
     "name": "stdin",
     "output_type": "stream",
     "text": [
      " Enter the first float number 3.4\n",
      " Enter the second float number 4.6\n"
     ]
    },
    {
     "name": "stdout",
     "output_type": "stream",
     "text": [
      "3.44.6\n"
     ]
    }
   ],
   "source": [
    "\n",
    "# tokens :- identifiers , operation , constants ,keywords (33 keywords in python ,48 in java ,60 in c++),\n",
    "a=(input(\" Enter the first float number\"))\n",
    "b=(input(\" Enter the second float number\"))\n",
    "sum=a+b\n",
    "print(sum)"
   ]
  },
  {
   "cell_type": "code",
   "execution_count": 4,
   "id": "cf4c3d4c-7265-4ca0-acc4-6b1bd1d41114",
   "metadata": {},
   "outputs": [
    {
     "name": "stdin",
     "output_type": "stream",
     "text": [
      "Enter the radius of the circle :  3\n"
     ]
    },
    {
     "name": "stdout",
     "output_type": "stream",
     "text": [
      "area is :  28.259999999999998\n",
      "perimeter is : 18.84\n"
     ]
    }
   ],
   "source": [
    "r=float(input(\"Enter the radius of the circle : \"))\n",
    "pie=3.14\n",
    "perimeter= (2 * pie *r)\n",
    "area=(pie*r*r)\n",
    "print(\"area is : \",area )\n",
    "print(\"perimeter is :\",perimeter)"
   ]
  },
  {
   "cell_type": "code",
   "execution_count": 6,
   "id": "0003a3bf-6eb1-4df2-acf0-e4d0e435ee62",
   "metadata": {},
   "outputs": [
    {
     "name": "stdin",
     "output_type": "stream",
     "text": [
      "Enter the amount:  200\n",
      "Enter the interest:  5\n"
     ]
    },
    {
     "name": "stdout",
     "output_type": "stream",
     "text": [
      "210.0\n"
     ]
    }
   ],
   "source": [
    "a=float(input(\"Enter the amount: \"))\n",
    "b=float(input(\"Enter the interest: \"))\n",
    "c=(a*b)/100\n",
    "print(a+c)"
   ]
  },
  {
   "cell_type": "code",
   "execution_count": 13,
   "id": "81f1f12a-d675-4a51-b9fb-1ad205664ef2",
   "metadata": {},
   "outputs": [
    {
     "name": "stdin",
     "output_type": "stream",
     "text": [
      "Enter a number 0\n"
     ]
    },
    {
     "name": "stdout",
     "output_type": "stream",
     "text": [
      " number is zero\n"
     ]
    }
   ],
   "source": [
    "num1=int(input(\"Enter a number\"))\n",
    "if(num1>0):\n",
    "    print(\"Positive number\")\n",
    "elif(num1==0):\n",
    "    print(\" number is zero\")\n",
    "else:\n",
    "    print(\"number is negative\")"
   ]
  },
  {
   "cell_type": "code",
   "execution_count": 12,
   "id": "efd8d64a-f136-4166-9bf9-399c15ccacb5",
   "metadata": {},
   "outputs": [
    {
     "name": "stdin",
     "output_type": "stream",
     "text": [
      "Enter a number -9\n"
     ]
    },
    {
     "name": "stdout",
     "output_type": "stream",
     "text": [
      "number is negative\n"
     ]
    }
   ],
   "source": [
    "num1=int(input(\"Enter a number\"))\n",
    "if num1>0:\n",
    "    print(\"Positive number\")\n",
    "else:\n",
    "    print(\"number is negative\")"
   ]
  },
  {
   "cell_type": "code",
   "execution_count": null,
   "id": "29516b98-2e1a-4d77-afeb-f0244ba2b96e",
   "metadata": {},
   "outputs": [],
   "source": []
  },
  {
   "cell_type": "code",
   "execution_count": 27,
   "id": "88a5960f-9847-4234-983b-9443763a68bb",
   "metadata": {},
   "outputs": [
    {
     "name": "stdin",
     "output_type": "stream",
     "text": [
      "Enter the year 2024\n"
     ]
    },
    {
     "name": "stdout",
     "output_type": "stream",
     "text": [
      "it is not a leap year\n"
     ]
    }
   ],
   "source": [
    "year=int(input(\"Enter the year\"))\n",
    "if(year%400==0 | year%4==0 ):\n",
    "    print(\"Its a leap year\")\n",
    "else:\n",
    "    print(\"it is not a leap year\")"
   ]
  },
  {
   "cell_type": "code",
   "execution_count": 45,
   "id": "25a84485-c206-4dc7-a1b9-168e1a8af3f4",
   "metadata": {},
   "outputs": [
    {
     "name": "stdin",
     "output_type": "stream",
     "text": [
      "Enter the year 1700\n"
     ]
    },
    {
     "name": "stdout",
     "output_type": "stream",
     "text": [
      "Not leap\n"
     ]
    }
   ],
   "source": [
    "year=int(input(\"Enter the year\"))\n",
    "if year%4==0:\n",
    "    if year %100==0:\n",
    "        if year% 400==0:\n",
    "            print(\"Leap year\")\n",
    "        else:\n",
    "            print(\"Not leap\")\n",
    "    else:\n",
    "        print(\"leap year\")   \n",
    "else:\n",
    "    print(\"Not leap\")"
   ]
  },
  {
   "cell_type": "code",
   "execution_count": null,
   "id": "ae8e9cee-a79d-430a-aae2-64634f254cdc",
   "metadata": {},
   "outputs": [],
   "source": [
    "year=int(input(\"Enter the year\"))\n",
    "if year%4==0 and year%100!=0 or year%400==0:\n",
    "    print(\"leap year\")\n",
    "else:\n",
    "    print(\"not leap year\")"
   ]
  },
  {
   "cell_type": "code",
   "execution_count": null,
   "id": "8bac3fee-0741-4f8d-b78e-3939da490bbf",
   "metadata": {},
   "outputs": [],
   "source": [
    "# Duckwaslewisrule something"
   ]
  },
  {
   "cell_type": "code",
   "execution_count": 3,
   "id": "487663e7-1230-44b4-b9ae-c61c1de3317c",
   "metadata": {},
   "outputs": [
    {
     "name": "stdout",
     "output_type": "stream",
     "text": [
      "Riya\n",
      "Riya\n",
      "Riya\n",
      "Riya\n",
      "Riya\n",
      "Riya\n",
      "Riya\n",
      "Riya\n",
      "Riya\n",
      "Riya\n"
     ]
    }
   ],
   "source": [
    "num=0\n",
    "while num<10:\n",
    "        print(\"Riya\")\n",
    "        num += 1\n",
    "    "
   ]
  },
  {
   "cell_type": "code",
   "execution_count": null,
   "id": "c27f5992-8b93-44ae-993d-446d73bc787a",
   "metadata": {},
   "outputs": [],
   "source": [
    "count=1\n",
    "add=0\n",
    "while count <=10:\n",
    "    add=count+add\n",
    "    count+=1\n",
    "print(add)"
   ]
  },
  {
   "cell_type": "code",
   "execution_count": null,
   "id": "84edaa9f-279a-4c5f-aff3-8fd7dcfc5fa6",
   "metadata": {},
   "outputs": [],
   "source": [
    "count=1\n",
    "add=0\n",
    "while count <=10:\n",
    "    if(count%2!=0):\n",
    "        print(count)\n",
    "        \n",
    "    count+=1"
   ]
  },
  {
   "cell_type": "code",
   "execution_count": 5,
   "id": "7351e7fc-4bac-411c-a4da-4f8f0047846a",
   "metadata": {},
   "outputs": [
    {
     "name": "stdout",
     "output_type": "stream",
     "text": [
      "100\n"
     ]
    }
   ],
   "source": [
    "count=1\n",
    "add=0\n",
    "while count <=19:\n",
    "    if(count%2!=0):\n",
    "        add=count+add\n",
    "    count+=1\n",
    "           \n",
    "print(add)"
   ]
  },
  {
   "cell_type": "code",
   "execution_count": 7,
   "id": "4904dcfb-bb76-475a-8c94-c5bcfd1d3975",
   "metadata": {},
   "outputs": [
    {
     "name": "stdout",
     "output_type": "stream",
     "text": [
      "100\n"
     ]
    }
   ],
   "source": [
    "count=1\n",
    "add=0\n",
    "while count <=20:\n",
    "    add=count+add\n",
    "    count+=2\n",
    "print(add)"
   ]
  },
  {
   "cell_type": "code",
   "execution_count": 8,
   "id": "403f03db-7898-4857-96dd-4dc5ec192950",
   "metadata": {},
   "outputs": [
    {
     "name": "stdout",
     "output_type": "stream",
     "text": [
      "45\n",
      "99\n",
      "96\n",
      "45\n"
     ]
    }
   ],
   "source": [
    "for x in 45,99,96,45:\n",
    "    print(x)"
   ]
  },
  {
   "cell_type": "code",
   "execution_count": 12,
   "id": "371f5ed9-fd01-4658-9151-be1ce8e1f2fd",
   "metadata": {},
   "outputs": [
    {
     "name": "stdout",
     "output_type": "stream",
     "text": [
      "Riya\n",
      "Riya\n",
      "Riya\n",
      "Riya\n",
      "Riya\n",
      "Riya\n",
      "Riya\n",
      "Riya\n",
      "Riya\n",
      "Riya\n"
     ]
    }
   ],
   "source": [
    "for i in range (10):\n",
    "    print(\"Riya\")"
   ]
  },
  {
   "cell_type": "code",
   "execution_count": 16,
   "id": "2b90de83-3a6b-4ab1-875c-fea6cb08e2f5",
   "metadata": {},
   "outputs": [
    {
     "name": "stdout",
     "output_type": "stream",
     "text": [
      "55\n"
     ]
    }
   ],
   "source": [
    "add=0\n",
    "for i in range(1,11):\n",
    "    add+=i\n",
    "   \n",
    "print(add)"
   ]
  },
  {
   "cell_type": "code",
   "execution_count": 33,
   "id": "a6fabab9-32c1-481a-97c4-3dd9176ea800",
   "metadata": {},
   "outputs": [
    {
     "name": "stdout",
     "output_type": "stream",
     "text": [
      "100\n"
     ]
    }
   ],
   "source": [
    "add=0\n",
    "for i in range(1,21,2):\n",
    "    add+=i\n",
    "print(add)   "
   ]
  },
  {
   "cell_type": "code",
   "execution_count": 35,
   "id": "ed40c994-17bb-4733-a17d-01d3b71bfa07",
   "metadata": {},
   "outputs": [
    {
     "data": {
      "text/plain": [
       "100"
      ]
     },
     "execution_count": 35,
     "metadata": {},
     "output_type": "execute_result"
    }
   ],
   "source": [
    "sum(range(1,21,2)) #predefined function in python"
   ]
  },
  {
   "cell_type": "code",
   "execution_count": 36,
   "id": "af6291d2-dd16-4ee4-977e-9f8e32f073ba",
   "metadata": {},
   "outputs": [
    {
     "name": "stdout",
     "output_type": "stream",
     "text": [
      "0\n",
      "1\n",
      "2\n",
      "3\n",
      "4\n",
      "6\n",
      "7\n",
      "8\n",
      "9\n"
     ]
    }
   ],
   "source": [
    "for i in range (10):\n",
    "    if i==5:\n",
    "        continue\n",
    "    print(i)"
   ]
  },
  {
   "cell_type": "code",
   "execution_count": 43,
   "id": "73ff732e-d3b9-4de1-82ce-ff79ce6778bb",
   "metadata": {},
   "outputs": [
    {
     "name": "stdout",
     "output_type": "stream",
     "text": [
      "['Silver', 'gold', 'iron', 'iron', 'aluminium', 'gold', 'silver', 'gold']\n"
     ]
    }
   ],
   "source": [
    "metals=['Silver','gold','copper','iron','copper','iron','aluminium','gold','silver','copper','gold']\n",
    "metal=list()\n",
    "for i in metals:\n",
    "    if(i=='copper'):\n",
    "        continue\n",
    "    metal.append(i)\n",
    "print(metal)"
   ]
  },
  {
   "cell_type": "code",
   "execution_count": 44,
   "id": "3bf5fd14-4ac9-4e22-bc7c-8bef221bbb8f",
   "metadata": {},
   "outputs": [
    {
     "name": "stdout",
     "output_type": "stream",
     "text": [
      "['Silver', 'gold', 'iron', 'iron', 'aluminium', 'gold', 'silver', 'gold']\n"
     ]
    }
   ],
   "source": [
    "new_metals=[]\n",
    "for metal in metals:\n",
    "    if metal !='copper':\n",
    "        new_metals.append(metal)\n",
    "print(new_metals)"
   ]
  },
  {
   "cell_type": "code",
   "execution_count": 45,
   "id": "1bab452a-9342-49d6-b3e3-fc86e578449c",
   "metadata": {},
   "outputs": [
    {
     "name": "stdout",
     "output_type": "stream",
     "text": [
      "['Silver', 'gold', 'iron', 'iron', 'aluminium', 'gold', 'silver', 'gold']\n"
     ]
    }
   ],
   "source": [
    "#compression methods mapping and flitering \n",
    "#list compression\n",
    "new_metals=[metal for metal in metals if metal!='copper']\n",
    "print(new_metals)"
   ]
  },
  {
   "cell_type": "code",
   "execution_count": 64,
   "id": "d546c7f0-46da-49d5-926f-6c341dcac830",
   "metadata": {},
   "outputs": [
    {
     "name": "stdout",
     "output_type": "stream",
     "text": [
      "[5, 6, 2, 8, 9, 0, 1, 3, 4, 7]\n"
     ]
    }
   ],
   "source": [
    "num=[5,6,2,8,9,1,3,7,4,0]\n",
    "x= num[:5]\n",
    "y= num[5:]\n",
    "y.sort()\n",
    "num=x+y\n",
    "print(num)"
   ]
  },
  {
   "cell_type": "code",
   "execution_count": 66,
   "id": "6d5cf5cc-1262-4aae-8e87-21091249a1e1",
   "metadata": {},
   "outputs": [
    {
     "name": "stdout",
     "output_type": "stream",
     "text": [
      "[5, 6, 3, 2, 8, 9, 0, 1, 3, 4, 4, 7, 12]\n"
     ]
    }
   ],
   "source": [
    "#one more logic \n",
    "num=[5,6,3,2,8,9,1,3,7,4,0,12,4]\n",
    "mid= len(num)// 2\n",
    "x= num[:mid]\n",
    "y= num[mid:]\n",
    "y.sort()\n",
    "num=x+y\n",
    "print(num)"
   ]
  },
  {
   "cell_type": "code",
   "execution_count": 74,
   "id": "655f27b3-6d71-4c6d-972c-d87cd5f64914",
   "metadata": {},
   "outputs": [
    {
     "name": "stdin",
     "output_type": "stream",
     "text": [
      "How many students?  3\n",
      "Enter rollno:  1\n",
      "Enter name:  riya\n",
      "enter marks:  345\n",
      "Enter rollno:  2\n",
      "Enter name:  riaa\n",
      "enter marks:  34\n",
      "Enter rollno:  2\n",
      "Enter name:  ert\n",
      "enter marks:  45\n"
     ]
    },
    {
     "name": "stdout",
     "output_type": "stream",
     "text": [
      "Information: [(1, 'riya', 345.0), (2, 'riaa', 34.0), (2, 'ert', 45.0)]\n",
      "riya\n"
     ]
    }
   ],
   "source": [
    "studs=[]\n",
    "num=int(input(\"How many students? \"))\n",
    "for i in range(num):\n",
    "    roll=int(input('Enter rollno: '))\n",
    "    name=input('Enter name: ')\n",
    "    marks= float(input('enter marks: '))\n",
    "    studs.append((roll,name,marks))\n",
    "print('Information:',studs)\n",
    "#code for finding the topper or maximum marks\n",
    "mx=0\n",
    "for stud in studs:\n",
    "    if stud[2]>mx:\n",
    "        mx= stud[2]\n",
    "        topper=stud[1]\n",
    "print(topper)"
   ]
  },
  {
   "cell_type": "code",
   "execution_count": 78,
   "id": "6734593f-5a32-422f-a932-1bd7f53df6c3",
   "metadata": {},
   "outputs": [
    {
     "name": "stdout",
     "output_type": "stream",
     "text": [
      "(90, 33, 2)\n"
     ]
    }
   ],
   "source": [
    "new=90,33,2\n",
    "print((new))"
   ]
  },
  {
   "cell_type": "code",
   "execution_count": 89,
   "id": "fff0ca91-a987-4fce-83e2-978d60fe3a97",
   "metadata": {},
   "outputs": [
    {
     "data": {
      "text/plain": [
       "(90, 11, 33, 2)"
      ]
     },
     "execution_count": 89,
     "metadata": {},
     "output_type": "execute_result"
    }
   ],
   "source": [
    "#insert 11 between 90 and 33\n",
    "new= list(new)\n",
    "new.insert(1,11)\n",
    "new= tuple(new)\n",
    "new"
   ]
  },
  {
   "cell_type": "code",
   "execution_count": 86,
   "id": "ced8d85b-fa4e-4b3a-9bf0-5536d1ec1e7e",
   "metadata": {},
   "outputs": [],
   "source": [
    "s ={}"
   ]
  },
  {
   "cell_type": "code",
   "execution_count": 88,
   "id": "7b590e1e-c833-4c39-bbfd-67d85bf29032",
   "metadata": {},
   "outputs": [],
   "source": [
    "del list\n"
   ]
  },
  {
   "cell_type": "code",
   "execution_count": 90,
   "id": "666649cc-01fd-4412-92d1-19cd8f9eac66",
   "metadata": {},
   "outputs": [],
   "source": [
    "s=set()\n",
    "s.add(45)"
   ]
  },
  {
   "cell_type": "code",
   "execution_count": 91,
   "id": "d4138d95-91b6-43de-be27-5635e0d6c8f8",
   "metadata": {},
   "outputs": [
    {
     "data": {
      "text/plain": [
       "{45}"
      ]
     },
     "execution_count": 91,
     "metadata": {},
     "output_type": "execute_result"
    }
   ],
   "source": [
    "s"
   ]
  },
  {
   "cell_type": "code",
   "execution_count": 92,
   "id": "cc6056f2-27f7-4f75-8f59-0ef0258cca6a",
   "metadata": {},
   "outputs": [],
   "source": [
    "s.add(5)"
   ]
  },
  {
   "cell_type": "code",
   "execution_count": 93,
   "id": "559ac42f-6ce3-4c13-9526-2064f48f574f",
   "metadata": {},
   "outputs": [
    {
     "data": {
      "text/plain": [
       "{5, 45}"
      ]
     },
     "execution_count": 93,
     "metadata": {},
     "output_type": "execute_result"
    }
   ],
   "source": [
    "s"
   ]
  },
  {
   "cell_type": "code",
   "execution_count": 94,
   "id": "b727b008-4da7-47e1-84c3-ed6500b8aa89",
   "metadata": {},
   "outputs": [],
   "source": [
    "s.add(45)"
   ]
  },
  {
   "cell_type": "code",
   "execution_count": 95,
   "id": "a755977e-4c8a-47b9-ad9a-87d8183a4e38",
   "metadata": {},
   "outputs": [
    {
     "data": {
      "text/plain": [
       "{5, 45}"
      ]
     },
     "execution_count": 95,
     "metadata": {},
     "output_type": "execute_result"
    }
   ],
   "source": [
    "s"
   ]
  },
  {
   "cell_type": "code",
   "execution_count": 96,
   "id": "e0927f3f-2bd2-477c-a7ae-63a50d9077db",
   "metadata": {},
   "outputs": [
    {
     "name": "stdout",
     "output_type": "stream",
     "text": [
      "Hello world\n"
     ]
    }
   ],
   "source": [
    "def show():\n",
    "    print(\"Hello world\")\n",
    "show()"
   ]
  },
  {
   "cell_type": "code",
   "execution_count": 106,
   "id": "4f3c19e6-55e4-4599-bcff-745a4087441b",
   "metadata": {},
   "outputs": [
    {
     "name": "stdin",
     "output_type": "stream",
     "text": [
      "Enter number 5\n"
     ]
    },
    {
     "data": {
      "text/plain": [
       "120"
      ]
     },
     "execution_count": 106,
     "metadata": {},
     "output_type": "execute_result"
    }
   ],
   "source": [
    "n= int(input(\"Enter number\"))\n",
    "def factorial(n):\n",
    "    fact=1\n",
    "    for i in range(1,n+1):\n",
    "        fact=fact *i\n",
    "    return fact\n",
    "factorial(n)\n",
    "   \n",
    "    "
   ]
  },
  {
   "cell_type": "code",
   "execution_count": null,
   "id": "dec7bb38-d0af-4065-a36c-ea9ae4588009",
   "metadata": {},
   "outputs": [],
   "source": []
  }
 ],
 "metadata": {
  "kernelspec": {
   "display_name": "Python 3 (ipykernel)",
   "language": "python",
   "name": "python3"
  },
  "language_info": {
   "codemirror_mode": {
    "name": "ipython",
    "version": 3
   },
   "file_extension": ".py",
   "mimetype": "text/x-python",
   "name": "python",
   "nbconvert_exporter": "python",
   "pygments_lexer": "ipython3",
   "version": "3.10.6"
  }
 },
 "nbformat": 4,
 "nbformat_minor": 5
}
