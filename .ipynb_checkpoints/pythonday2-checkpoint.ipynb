{
 "cells": [
  {
   "cell_type": "code",
   "execution_count": 1,
   "id": "5cd01bd7-7330-4b0d-a93b-47ac7d424877",
   "metadata": {},
   "outputs": [
    {
     "data": {
      "text/plain": [
       "[1, 2, 3, 4, 5]"
      ]
     },
     "execution_count": 1,
     "metadata": {},
     "output_type": "execute_result"
    }
   ],
   "source": [
    "x=[1,2,3,4,5]\n",
    "x.sort() # sort is method it is dependented of object , whereas function is independented. \n",
    "sorted(x)"
   ]
  },
  {
   "cell_type": "code",
   "execution_count": 2,
   "id": "7a9b5efe-04e1-4b01-8b48-db85b8a6a88d",
   "metadata": {
    "scrolled": true
   },
   "outputs": [
    {
     "data": {
      "text/plain": [
       "[1, 2, 3, 4, 5]"
      ]
     },
     "execution_count": 2,
     "metadata": {},
     "output_type": "execute_result"
    }
   ],
   "source": [
    "sorted(x)"
   ]
  },
  {
   "cell_type": "markdown",
   "id": "962084aa-3df6-4672-b504-eb33ccfd7313",
   "metadata": {},
   "source": [
    "**class in python**"
   ]
  },
  {
   "cell_type": "code",
   "execution_count": 18,
   "id": "e65cbaee-9701-4879-87dc-36d73b0c008f",
   "metadata": {},
   "outputs": [],
   "source": [
    "class Person:\n",
    "    #constructor overloading of constructors or overridding  are not defined \n",
    "    def __init__(self,n='Riya',a=19):\n",
    "        self.name=n\n",
    "        self.age=a\n",
    "    def show(self):\n",
    "        print('values are: ')\n",
    "        print(self.name ,self.age)\n",
    "        "
   ]
  },
  {
   "cell_type": "code",
   "execution_count": 10,
   "id": "c573a4c3-78ad-47d2-8905-1d53ce248554",
   "metadata": {},
   "outputs": [],
   "source": [
    "#data centric approach , data processing approach  to create an object\n",
    "obj1=Person('Riya',19)\n"
   ]
  },
  {
   "cell_type": "code",
   "execution_count": 11,
   "id": "d2a1252b-83c5-4270-afa9-305f7c1874b1",
   "metadata": {},
   "outputs": [
    {
     "data": {
      "text/plain": [
       "19"
      ]
     },
     "execution_count": 11,
     "metadata": {},
     "output_type": "execute_result"
    }
   ],
   "source": [
    "obj1.age"
   ]
  },
  {
   "cell_type": "code",
   "execution_count": 12,
   "id": "2434cff8-42f7-4c7f-a9ee-85c68b4dfc7a",
   "metadata": {},
   "outputs": [
    {
     "data": {
      "text/plain": [
       "'Riya'"
      ]
     },
     "execution_count": 12,
     "metadata": {},
     "output_type": "execute_result"
    }
   ],
   "source": [
    "obj1.name"
   ]
  },
  {
   "cell_type": "code",
   "execution_count": 8,
   "id": "a6f07789-9ee5-4603-983c-d49910c9962a",
   "metadata": {},
   "outputs": [
    {
     "name": "stdout",
     "output_type": "stream",
     "text": [
      "values are: \n",
      "Riya 19\n"
     ]
    }
   ],
   "source": [
    "obj1.show()"
   ]
  },
  {
   "cell_type": "markdown",
   "id": "f2ed2085-0b2a-471d-87a3-89b2200b2b6b",
   "metadata": {},
   "source": [
    "#default arguments and keyword arguments"
   ]
  },
  {
   "cell_type": "code",
   "execution_count": 19,
   "id": "42debf74-5720-4e4f-b7be-d7308c2b696c",
   "metadata": {},
   "outputs": [
    {
     "name": "stdout",
     "output_type": "stream",
     "text": [
      "values are: \n",
      "Riya 19\n"
     ]
    }
   ],
   "source": [
    "obj2=Person()\n",
    "obj2.show()"
   ]
  },
  {
   "cell_type": "markdown",
   "id": "906c3ff3-519e-496a-9885-012b4e107027",
   "metadata": {},
   "source": [
    "#** More data structured :- array ** # yesterday we saw list, tuple, set, dict"
   ]
  },
  {
   "cell_type": "markdown",
   "id": "1ee4c6dc-f7c7-4e0a-a600-f798cc8e9c86",
   "metadata": {},
   "source": [
    "#linear algrebra , linear regression |"
   ]
  },
  {
   "cell_type": "markdown",
   "id": "9ae39dbb-3bdb-4560-83db-707b5870aeb6",
   "metadata": {},
   "source": [
    "numpy package"
   ]
  },
  {
   "cell_type": "code",
   "execution_count": 23,
   "id": "1ea6b466-d50c-421f-b547-ec4d25dd2885",
   "metadata": {},
   "outputs": [],
   "source": [
    "import numpy as np"
   ]
  },
  {
   "cell_type": "code",
   "execution_count": 24,
   "id": "ce61f612-7034-4442-8e2e-4598d5021833",
   "metadata": {},
   "outputs": [],
   "source": [
    "num=np.array([56,33,15,38,61,49,20])"
   ]
  },
  {
   "cell_type": "code",
   "execution_count": 25,
   "id": "c6875815-927a-43be-afe6-8365063844a3",
   "metadata": {},
   "outputs": [
    {
     "name": "stdout",
     "output_type": "stream",
     "text": [
      "[56 33 15 38 61 49 20]\n"
     ]
    }
   ],
   "source": [
    "print(num)"
   ]
  },
  {
   "cell_type": "code",
   "execution_count": 27,
   "id": "d8c875ab-6b01-4c5e-8d78-52d1714c5a86",
   "metadata": {},
   "outputs": [
    {
     "name": "stdout",
     "output_type": "stream",
     "text": [
      "<class 'numpy.ndarray'>\n"
     ]
    }
   ],
   "source": [
    "print(type(num))"
   ]
  },
  {
   "cell_type": "code",
   "execution_count": 31,
   "id": "d900d2c3-ec46-41e8-97fc-d47a263047a0",
   "metadata": {},
   "outputs": [
    {
     "data": {
      "text/plain": [
       "dtype('int32')"
      ]
     },
     "execution_count": 31,
     "metadata": {},
     "output_type": "execute_result"
    }
   ],
   "source": [
    "num.dtype"
   ]
  },
  {
   "cell_type": "code",
   "execution_count": 32,
   "id": "eeae304d-99e2-4446-a426-0b5e69a99a22",
   "metadata": {},
   "outputs": [],
   "source": [
    "# 4 byte means  32 bit"
   ]
  },
  {
   "cell_type": "code",
   "execution_count": 34,
   "id": "f9fb5713-4b62-46d9-9563-6bbc0b052a53",
   "metadata": {},
   "outputs": [
    {
     "data": {
      "text/plain": [
       "4294967296"
      ]
     },
     "execution_count": 34,
     "metadata": {},
     "output_type": "execute_result"
    }
   ],
   "source": [
    "n=2** 32\n",
    "n #maximum number sorted in interger"
   ]
  },
  {
   "cell_type": "code",
   "execution_count": 36,
   "id": "56f57e6b-0891-417e-be87-cebc2102b35a",
   "metadata": {},
   "outputs": [
    {
     "data": {
      "text/plain": [
       "1606938044258990275541962092341162602522202993782792835301376"
      ]
     },
     "execution_count": 36,
     "metadata": {},
     "output_type": "execute_result"
    }
   ],
   "source": [
    "n=2**200\n",
    "n"
   ]
  },
  {
   "cell_type": "code",
   "execution_count": 38,
   "id": "5d30b688-2d0f-4d2b-b5c1-64674f9db4d2",
   "metadata": {},
   "outputs": [
    {
     "data": {
      "text/plain": [
       "699815617362686870163997571635872715284083435199329774173709361749998931729558790221557892286797269408707614145452668916937318612955984937209583026047425997105818855944152373513569732924544248879786444015916362058812676498428359467678908630683525674553295952275027572760901662748546606445431228934896353792603496987216071988094579698770983876119901714505254679856106832565463503542843338460680833724450466227522787728637020177943000296909043962898673078361813230437929715784464873812184478643820443238328611510473688015781470093348070309718181156000273477222321310767600371429094774180382810446848640613857481342224897084242521977476101541132959355778464979806284395511830819982101316312171273250729252031049077985722129544252732592735970451225437852788543474358624221597877669190348660175301296589317510961677303572444941202713378629670088372468196171689997265637400969676268476669610306127212166304054764889121779672513084502156029707187125510858213156376620288040309524875133352781916443317923407978298135919241200359570220322502755042901724220588087040912532101981280805712954347121695968693516149060115482162076162875504206308428429155967692913386595597100490733291417221934759620246634793023303875848295306847431256671597656962097621524616771721300236109352198083936107536756860280387408079725351375820540403574299692515799464311948301892536410377000788367748782290680670513761862862704838830521781907014590114330108928103291596831000339881185667164687779406935659580632876843002368881517925521583454726891639264567229024177364359799257794324964822900459691351870684830091644160379735873598846178796258700127482190631247901724054083647600501324513346588667498734580880983048033266372805349028386992199309867735923204930489481458953994299448902702802568513494992918778532458550613517371086045605406516158333197078108347990803243601126354014597287448879100146888409204979951129157697536"
      ]
     },
     "execution_count": 38,
     "metadata": {},
     "output_type": "execute_result"
    }
   ],
   "source": [
    "n= 34 ** 1234\n",
    "n"
   ]
  },
  {
   "cell_type": "code",
   "execution_count": 41,
   "id": "bd381cd2-77fe-43ba-a705-6273a0db7fd3",
   "metadata": {},
   "outputs": [
    {
     "data": {
      "text/plain": [
       "array([56. , 67.8])"
      ]
     },
     "execution_count": 41,
     "metadata": {},
     "output_type": "execute_result"
    }
   ],
   "source": [
    "num1=np.array([56,67.8])\n",
    "num1"
   ]
  },
  {
   "cell_type": "code",
   "execution_count": 43,
   "id": "ea22afa5-de9d-4fd2-8ad4-d49092a2aee6",
   "metadata": {},
   "outputs": [
    {
     "data": {
      "text/plain": [
       "dtype('float64')"
      ]
     },
     "execution_count": 43,
     "metadata": {},
     "output_type": "execute_result"
    }
   ],
   "source": [
    "num1.dtype"
   ]
  },
  {
   "cell_type": "code",
   "execution_count": 50,
   "id": "ba58044f-0da6-4ac9-be08-bee6dae53b04",
   "metadata": {},
   "outputs": [
    {
     "data": {
      "text/plain": [
       "dtype('<U11')"
      ]
     },
     "execution_count": 50,
     "metadata": {},
     "output_type": "execute_result"
    }
   ],
   "source": [
    "num2=np.array([56,678,\"Riya\",11,45])\n",
    "num2\n",
    "num2.dtype"
   ]
  },
  {
   "cell_type": "code",
   "execution_count": null,
   "id": "8cf1aa31-a1e5-4edc-953d-63aa2800d11f",
   "metadata": {},
   "outputs": [],
   "source": [
    "#u is for unicode with 11 bits"
   ]
  },
  {
   "cell_type": "code",
   "execution_count": 51,
   "id": "3e80fc8a-0729-4ab0-8b33-4a6cb780b4e2",
   "metadata": {},
   "outputs": [
    {
     "data": {
      "text/plain": [
       "dtype('bool')"
      ]
     },
     "execution_count": 51,
     "metadata": {},
     "output_type": "execute_result"
    }
   ],
   "source": [
    "num3=np.array([True,False,True])\n",
    "num3.dtype"
   ]
  },
  {
   "cell_type": "code",
   "execution_count": 52,
   "id": "27578eae-2d88-4863-a7c4-acaef81f52c8",
   "metadata": {},
   "outputs": [
    {
     "data": {
      "text/plain": [
       "array([0., 0., 0., 0., 0.])"
      ]
     },
     "execution_count": 52,
     "metadata": {},
     "output_type": "execute_result"
    }
   ],
   "source": [
    "z=np.zeros(5)\n",
    "z"
   ]
  },
  {
   "cell_type": "code",
   "execution_count": 54,
   "id": "cef12f83-4749-4215-9b7a-3df13c052385",
   "metadata": {},
   "outputs": [
    {
     "data": {
      "text/plain": [
       "array([1., 1., 1., 1., 1.])"
      ]
     },
     "execution_count": 54,
     "metadata": {},
     "output_type": "execute_result"
    }
   ],
   "source": [
    "o=np.ones(5)\n",
    "o"
   ]
  },
  {
   "cell_type": "code",
   "execution_count": 55,
   "id": "c1cefa26-a078-4072-a361-1ec44d176f01",
   "metadata": {},
   "outputs": [
    {
     "data": {
      "text/plain": [
       "array([0, 1, 2, 3, 4, 5, 6, 7, 8, 9])"
      ]
     },
     "execution_count": 55,
     "metadata": {},
     "output_type": "execute_result"
    }
   ],
   "source": [
    "np.arange(10)\n"
   ]
  },
  {
   "cell_type": "code",
   "execution_count": 56,
   "id": "58a34930-17d1-4d17-a3a5-fbce00d88199",
   "metadata": {},
   "outputs": [
    {
     "data": {
      "text/plain": [
       "array([4, 5, 6, 7, 8])"
      ]
     },
     "execution_count": 56,
     "metadata": {},
     "output_type": "execute_result"
    }
   ],
   "source": [
    "np.arange(4,9)"
   ]
  },
  {
   "cell_type": "code",
   "execution_count": 57,
   "id": "e8d6047d-8309-47a6-b2b6-c8c3f047e4ec",
   "metadata": {},
   "outputs": [
    {
     "data": {
      "text/plain": [
       "array([ 2,  4,  6,  8, 10, 12, 14, 16, 18])"
      ]
     },
     "execution_count": 57,
     "metadata": {},
     "output_type": "execute_result"
    }
   ],
   "source": [
    "np.arange(2,20,2)"
   ]
  },
  {
   "cell_type": "code",
   "execution_count": 58,
   "id": "3f3b468e-36bd-45da-88cb-1672724e7a55",
   "metadata": {},
   "outputs": [
    {
     "data": {
      "text/plain": [
       "array([10,  9,  8,  7,  6,  5,  4,  3,  2,  1])"
      ]
     },
     "execution_count": 58,
     "metadata": {},
     "output_type": "execute_result"
    }
   ],
   "source": [
    "np.arange(10,0,-1)"
   ]
  },
  {
   "cell_type": "code",
   "execution_count": 60,
   "id": "4c54f1a0-fe21-48e4-a645-2d60f7b36467",
   "metadata": {},
   "outputs": [
    {
     "data": {
      "text/plain": [
       "array([-5.  , -4.75, -4.5 , -4.25, -4.  , -3.75, -3.5 , -3.25, -3.  ,\n",
       "       -2.75, -2.5 , -2.25, -2.  , -1.75, -1.5 , -1.25, -1.  , -0.75,\n",
       "       -0.5 , -0.25,  0.  ,  0.25,  0.5 ,  0.75,  1.  ,  1.25,  1.5 ,\n",
       "        1.75,  2.  ,  2.25,  2.5 ,  2.75,  3.  ,  3.25,  3.5 ,  3.75,\n",
       "        4.  ,  4.25,  4.5 ,  4.75])"
      ]
     },
     "execution_count": 60,
     "metadata": {},
     "output_type": "execute_result"
    }
   ],
   "source": [
    "np.arange(-5,5,0.25)\n",
    "# this utilities are used in linear algebra\n",
    "# arrange allows float increment also whereas range doesnot allows the same"
   ]
  },
  {
   "cell_type": "code",
   "execution_count": 64,
   "id": "1ba00d2c-224d-4f5e-87e8-b50318d18e2e",
   "metadata": {},
   "outputs": [
    {
     "data": {
      "text/plain": [
       "array([ 1.,  2.,  3.,  4.,  5.,  6.,  7.,  8.,  9., 10.])"
      ]
     },
     "execution_count": 64,
     "metadata": {},
     "output_type": "execute_result"
    }
   ],
   "source": [
    "np.linspace(1,10,10) #it is linearly space between 2 elements and they are in the range given"
   ]
  },
  {
   "cell_type": "code",
   "execution_count": 72,
   "id": "4834045a-6f49-4dc1-8472-5846d0afd8d3",
   "metadata": {},
   "outputs": [
    {
     "name": "stdout",
     "output_type": "stream",
     "text": [
      "<class 'list'>\n"
     ]
    }
   ],
   "source": [
    "num1=np.array([56,33,15,36])\n",
    "num2=[56,33,15,36]\n",
    "print(type(num2))"
   ]
  },
  {
   "cell_type": "code",
   "execution_count": 73,
   "id": "16e3869f-4ea9-45ed-a252-6e6b67c5fc47",
   "metadata": {},
   "outputs": [
    {
     "data": {
      "text/plain": [
       "array([112,  66,  30,  72])"
      ]
     },
     "execution_count": 73,
     "metadata": {},
     "output_type": "execute_result"
    }
   ],
   "source": [
    "num1 *2"
   ]
  },
  {
   "cell_type": "code",
   "execution_count": 74,
   "id": "3b2f9a37-861a-4d06-a286-8e6db1106206",
   "metadata": {},
   "outputs": [
    {
     "data": {
      "text/plain": [
       "[56, 33, 15, 36, 56, 33, 15, 36]"
      ]
     },
     "execution_count": 74,
     "metadata": {},
     "output_type": "execute_result"
    }
   ],
   "source": [
    "num2 *2"
   ]
  },
  {
   "cell_type": "code",
   "execution_count": 75,
   "id": "e0efd41a-d0b0-4b6b-b6d2-b35ecfa1e1f7",
   "metadata": {},
   "outputs": [
    {
     "data": {
      "text/plain": [
       "(array([56, 33, 15, 36]), [56, 33, 15, 36])"
      ]
     },
     "execution_count": 75,
     "metadata": {},
     "output_type": "execute_result"
    }
   ],
   "source": [
    "num1 ,num2"
   ]
  },
  {
   "cell_type": "code",
   "execution_count": 76,
   "id": "41be6db1-d41f-429f-bb07-bafc25d09d2a",
   "metadata": {},
   "outputs": [
    {
     "data": {
      "text/plain": [
       "array([66, 43, 25, 46])"
      ]
     },
     "execution_count": 76,
     "metadata": {},
     "output_type": "execute_result"
    }
   ],
   "source": [
    "num1 + 10"
   ]
  },
  {
   "cell_type": "code",
   "execution_count": 77,
   "id": "a04febeb-b6b9-43dd-8ae7-e8a7a2902f33",
   "metadata": {},
   "outputs": [
    {
     "data": {
      "text/plain": [
       "array([46, 23,  5, 26])"
      ]
     },
     "execution_count": 77,
     "metadata": {},
     "output_type": "execute_result"
    }
   ],
   "source": [
    "num1-10"
   ]
  },
  {
   "cell_type": "code",
   "execution_count": 78,
   "id": "d6fcd0a1-f10c-43ab-ae86-3094639d87d4",
   "metadata": {},
   "outputs": [],
   "source": [
    "num1=np.array([50,33,45,6,7,88,90])\n",
    "num2=np.array([50,33,45,6,7,88,90])"
   ]
  },
  {
   "cell_type": "code",
   "execution_count": 79,
   "id": "f3915321-6a40-49e8-af67-a419aeaf2980",
   "metadata": {},
   "outputs": [
    {
     "data": {
      "text/plain": [
       "array([100,  66,  90,  12,  14, 176, 180])"
      ]
     },
     "execution_count": 79,
     "metadata": {},
     "output_type": "execute_result"
    }
   ],
   "source": [
    "num1+num2"
   ]
  },
  {
   "cell_type": "code",
   "execution_count": 80,
   "id": "34724929-8daa-4d6f-9171-9e02627ef77e",
   "metadata": {},
   "outputs": [
    {
     "data": {
      "text/plain": [
       "array([0, 0, 0, 0, 0, 0, 0])"
      ]
     },
     "execution_count": 80,
     "metadata": {},
     "output_type": "execute_result"
    }
   ],
   "source": [
    "num1-num2"
   ]
  },
  {
   "cell_type": "code",
   "execution_count": 81,
   "id": "cd773629-3013-426b-a643-4062adc09054",
   "metadata": {},
   "outputs": [
    {
     "data": {
      "text/plain": [
       "array([False, False, False, False, False, False, False])"
      ]
     },
     "execution_count": 81,
     "metadata": {},
     "output_type": "execute_result"
    }
   ],
   "source": [
    "num1>num2"
   ]
  },
  {
   "cell_type": "code",
   "execution_count": 86,
   "id": "4b18eb00-9416-48a3-a5c5-3b5c55b06a67",
   "metadata": {},
   "outputs": [
    {
     "data": {
      "text/plain": [
       "array([ True,  True,  True,  True,  True,  True,  True])"
      ]
     },
     "execution_count": 86,
     "metadata": {},
     "output_type": "execute_result"
    }
   ],
   "source": [
    "# scalar and vector collection of scalar is vector\n",
    "#single element isa scalar multiple elements is a vector\n",
    "num1==num2"
   ]
  },
  {
   "cell_type": "code",
   "execution_count": 84,
   "id": "db8e9075-75ba-4093-8321-bc054ae59215",
   "metadata": {},
   "outputs": [
    {
     "data": {
      "text/plain": [
       "2"
      ]
     },
     "execution_count": 84,
     "metadata": {},
     "output_type": "execute_result"
    }
   ],
   "source": [
    "True+True"
   ]
  },
  {
   "cell_type": "code",
   "execution_count": 85,
   "id": "69e90737-ae29-4bae-a7c4-39dc992d80db",
   "metadata": {},
   "outputs": [
    {
     "data": {
      "text/plain": [
       "7"
      ]
     },
     "execution_count": 85,
     "metadata": {},
     "output_type": "execute_result"
    }
   ],
   "source": [
    "sum(num1==num2) # sum a pre-built function"
   ]
  },
  {
   "cell_type": "code",
   "execution_count": 87,
   "id": "c49aeb26-0830-40c2-af3a-9d9867a17d07",
   "metadata": {},
   "outputs": [
    {
     "data": {
      "text/plain": [
       "array([[4, 5, 6],\n",
       "       [2, 9, 8]])"
      ]
     },
     "execution_count": 87,
     "metadata": {},
     "output_type": "execute_result"
    }
   ],
   "source": [
    "#mutiple vectors of equal length are matrix\n",
    "mat1=np.array([[4,5,6],[2,9,8]])\n",
    "mat1"
   ]
  },
  {
   "cell_type": "code",
   "execution_count": 88,
   "id": "3bf0316f-00b2-44f3-9446-44db7d810971",
   "metadata": {},
   "outputs": [
    {
     "data": {
      "text/plain": [
       "(2, 3)"
      ]
     },
     "execution_count": 88,
     "metadata": {},
     "output_type": "execute_result"
    }
   ],
   "source": [
    "mat1.shape"
   ]
  },
  {
   "cell_type": "code",
   "execution_count": 89,
   "id": "ca12a195-a519-4b28-9da2-3bcca879da8b",
   "metadata": {},
   "outputs": [
    {
     "data": {
      "text/plain": [
       "array([[ 8, 10, 12],\n",
       "       [ 4, 18, 16]])"
      ]
     },
     "execution_count": 89,
     "metadata": {},
     "output_type": "execute_result"
    }
   ],
   "source": [
    "mat1 *2"
   ]
  },
  {
   "cell_type": "code",
   "execution_count": 90,
   "id": "2d804451-70f4-411d-bc05-30b6d1c30e06",
   "metadata": {},
   "outputs": [
    {
     "data": {
      "text/plain": [
       "array([[4, 5],\n",
       "       [6, 2],\n",
       "       [9, 8]])"
      ]
     },
     "execution_count": 90,
     "metadata": {},
     "output_type": "execute_result"
    }
   ],
   "source": [
    "mat1.reshape(3,2)"
   ]
  },
  {
   "cell_type": "code",
   "execution_count": 91,
   "id": "60b06334-1178-462f-aa0d-08ce8a8d978c",
   "metadata": {},
   "outputs": [
    {
     "data": {
      "text/plain": [
       "array([[4],\n",
       "       [5],\n",
       "       [6],\n",
       "       [2],\n",
       "       [9],\n",
       "       [8]])"
      ]
     },
     "execution_count": 91,
     "metadata": {},
     "output_type": "execute_result"
    }
   ],
   "source": [
    "mat1.reshape(6,1)"
   ]
  },
  {
   "cell_type": "code",
   "execution_count": 95,
   "id": "08887c82-5482-412f-b50b-86c57e3188bc",
   "metadata": {},
   "outputs": [
    {
     "data": {
      "text/plain": [
       "array([4, 5, 6, 2, 9, 8])"
      ]
     },
     "execution_count": 95,
     "metadata": {},
     "output_type": "execute_result"
    }
   ],
   "source": [
    "mat1.reshape(6)"
   ]
  },
  {
   "cell_type": "code",
   "execution_count": 97,
   "id": "11c55c44-5c1e-4d63-ab2d-9d718857a14d",
   "metadata": {},
   "outputs": [
    {
     "data": {
      "text/plain": [
       "array([4, 5, 6, 2, 9, 8])"
      ]
     },
     "execution_count": 97,
     "metadata": {},
     "output_type": "execute_result"
    }
   ],
   "source": [
    "mat1.flatten()"
   ]
  },
  {
   "cell_type": "code",
   "execution_count": 98,
   "id": "042cbeee-42a3-4ff3-a4c1-6b7ad647dc7f",
   "metadata": {},
   "outputs": [
    {
     "data": {
      "text/plain": [
       "array([50, 33, 45,  6,  7, 88, 90])"
      ]
     },
     "execution_count": 98,
     "metadata": {},
     "output_type": "execute_result"
    }
   ],
   "source": [
    "num1"
   ]
  },
  {
   "cell_type": "code",
   "execution_count": 100,
   "id": "dae67fc5-a48f-4d8c-adaa-b32dd5745886",
   "metadata": {},
   "outputs": [],
   "source": [
    "num1=np.array([50, 33, 45,  6,  7, 88, 90,21])"
   ]
  },
  {
   "cell_type": "code",
   "execution_count": 101,
   "id": "cb04377f-7d93-4f33-a99d-a08e6c43d754",
   "metadata": {},
   "outputs": [
    {
     "data": {
      "text/plain": [
       "array([[50, 33],\n",
       "       [45,  6],\n",
       "       [ 7, 88],\n",
       "       [90, 21]])"
      ]
     },
     "execution_count": 101,
     "metadata": {},
     "output_type": "execute_result"
    }
   ],
   "source": [
    "num1.reshape(4,2)"
   ]
  },
  {
   "cell_type": "code",
   "execution_count": 102,
   "id": "a56bda3a-4708-4dac-aa1f-3dc6f29c18a3",
   "metadata": {},
   "outputs": [
    {
     "data": {
      "text/plain": [
       "272"
      ]
     },
     "execution_count": 102,
     "metadata": {},
     "output_type": "execute_result"
    }
   ],
   "source": [
    "num.sum()"
   ]
  },
  {
   "cell_type": "code",
   "execution_count": 103,
   "id": "82dd79b8-f90b-450a-aed8-7b1e1c42d079",
   "metadata": {},
   "outputs": [
    {
     "data": {
      "text/plain": [
       "61"
      ]
     },
     "execution_count": 103,
     "metadata": {},
     "output_type": "execute_result"
    }
   ],
   "source": [
    "num.max()"
   ]
  },
  {
   "cell_type": "code",
   "execution_count": 104,
   "id": "64b478a5-b8e2-4179-811c-53b2051ae883",
   "metadata": {},
   "outputs": [
    {
     "data": {
      "text/plain": [
       "15"
      ]
     },
     "execution_count": 104,
     "metadata": {},
     "output_type": "execute_result"
    }
   ],
   "source": [
    "num.min()"
   ]
  },
  {
   "cell_type": "code",
   "execution_count": 105,
   "id": "aa0a005c-9e9d-46b6-a51e-21f19ce43c90",
   "metadata": {},
   "outputs": [
    {
     "data": {
      "text/plain": [
       "38.857142857142854"
      ]
     },
     "execution_count": 105,
     "metadata": {},
     "output_type": "execute_result"
    }
   ],
   "source": [
    "num.mean()"
   ]
  },
  {
   "cell_type": "code",
   "execution_count": 107,
   "id": "3bc047d1-72fb-4469-b4d7-8dd372347cf8",
   "metadata": {},
   "outputs": [
    {
     "data": {
      "text/plain": [
       "38.0"
      ]
     },
     "execution_count": 107,
     "metadata": {},
     "output_type": "execute_result"
    }
   ],
   "source": [
    "np.median(num)"
   ]
  },
  {
   "cell_type": "code",
   "execution_count": 108,
   "id": "18e4512e-1903-4f70-ad0c-819113d0ecf4",
   "metadata": {},
   "outputs": [
    {
     "data": {
      "text/plain": [
       "7"
      ]
     },
     "execution_count": 108,
     "metadata": {},
     "output_type": "execute_result"
    }
   ],
   "source": [
    "num.size"
   ]
  },
  {
   "cell_type": "code",
   "execution_count": 109,
   "id": "529c302d-8c44-49ad-bae7-baaf209d34b3",
   "metadata": {},
   "outputs": [
    {
     "data": {
      "text/plain": [
       "[56, 33, 15, 38, 61, 49, 20]"
      ]
     },
     "execution_count": 109,
     "metadata": {},
     "output_type": "execute_result"
    }
   ],
   "source": [
    "list(num)"
   ]
  },
  {
   "cell_type": "code",
   "execution_count": 110,
   "id": "03bf011f-8d03-4254-ab3d-333624411ef7",
   "metadata": {},
   "outputs": [
    {
     "data": {
      "text/plain": [
       "(56, 33, 15, 38, 61, 49, 20)"
      ]
     },
     "execution_count": 110,
     "metadata": {},
     "output_type": "execute_result"
    }
   ],
   "source": [
    "tuple(num)"
   ]
  },
  {
   "cell_type": "code",
   "execution_count": 1,
   "id": "7b3cb348-7d11-4914-86ac-8372e7324155",
   "metadata": {},
   "outputs": [
    {
     "ename": "NameError",
     "evalue": "name 'num' is not defined",
     "output_type": "error",
     "traceback": [
      "\u001b[1;31m---------------------------------------------------------------------------\u001b[0m",
      "\u001b[1;31mNameError\u001b[0m                                 Traceback (most recent call last)",
      "Cell \u001b[1;32mIn[1], line 1\u001b[0m\n\u001b[1;32m----> 1\u001b[0m \u001b[38;5;28mset\u001b[39m(\u001b[43mnum\u001b[49m)\n",
      "\u001b[1;31mNameError\u001b[0m: name 'num' is not defined"
     ]
    }
   ],
   "source": [
    "set(num)"
   ]
  },
  {
   "cell_type": "markdown",
   "id": "1966b692-0fe4-4007-93d2-5f9ad80ef6a0",
   "metadata": {},
   "source": [
    "# Pandas :- for analayzing the data , provides high performance data manipulation and analysis"
   ]
  },
  {
   "cell_type": "markdown",
   "id": "2b94da85-d224-4fcf-8efc-ea9e0d040dfe",
   "metadata": {},
   "source": [
    "#Series :- 1D labeles homogenous data.\n",
    "#Datafram:- 2d array with heterogenous data."
   ]
  },
  {
   "cell_type": "code",
   "execution_count": 2,
   "id": "4a48552a-cfc8-4393-8028-8472903c7955",
   "metadata": {},
   "outputs": [],
   "source": [
    "import pandas as pd"
   ]
  },
  {
   "cell_type": "code",
   "execution_count": 5,
   "id": "9c9c73d6-f4e3-4184-8d7c-f2d4c4f7cd02",
   "metadata": {},
   "outputs": [
    {
     "data": {
      "text/plain": [
       "100    73\n",
       "101    51\n",
       "102    23\n",
       "103    56\n",
       "104    78\n",
       "dtype: int64"
      ]
     },
     "execution_count": 5,
     "metadata": {},
     "output_type": "execute_result"
    }
   ],
   "source": [
    "s=pd.Series([73,51,23,56,78],index=range(100,105))\n",
    "s"
   ]
  },
  {
   "cell_type": "code",
   "execution_count": 6,
   "id": "eaa4749f-c308-4f38-8586-a722a7d8a774",
   "metadata": {},
   "outputs": [
    {
     "data": {
      "text/plain": [
       "23"
      ]
     },
     "execution_count": 6,
     "metadata": {},
     "output_type": "execute_result"
    }
   ],
   "source": [
    "s[102]"
   ]
  },
  {
   "cell_type": "code",
   "execution_count": 7,
   "id": "ffbce14f-b300-4861-bc80-4deb14b1dcf4",
   "metadata": {},
   "outputs": [],
   "source": [
    "s[102]=58"
   ]
  },
  {
   "cell_type": "code",
   "execution_count": 8,
   "id": "c6de0474-2c6d-4e3a-96dd-593f1e4f0cb4",
   "metadata": {},
   "outputs": [
    {
     "data": {
      "text/plain": [
       "100    73\n",
       "101    51\n",
       "102    58\n",
       "103    56\n",
       "104    78\n",
       "dtype: int64"
      ]
     },
     "execution_count": 8,
     "metadata": {},
     "output_type": "execute_result"
    }
   ],
   "source": [
    "s"
   ]
  },
  {
   "cell_type": "code",
   "execution_count": 9,
   "id": "a1d265f3-aa43-498e-a059-2c3f6fe895c2",
   "metadata": {},
   "outputs": [
    {
     "data": {
      "text/plain": [
       "51"
      ]
     },
     "execution_count": 9,
     "metadata": {},
     "output_type": "execute_result"
    }
   ],
   "source": [
    "s.min()"
   ]
  },
  {
   "cell_type": "code",
   "execution_count": 10,
   "id": "21fef105-1f0c-4501-accb-1753faffe151",
   "metadata": {},
   "outputs": [
    {
     "data": {
      "text/plain": [
       "78"
      ]
     },
     "execution_count": 10,
     "metadata": {},
     "output_type": "execute_result"
    }
   ],
   "source": [
    "s.max()"
   ]
  },
  {
   "cell_type": "code",
   "execution_count": 11,
   "id": "a6ea9482-dcda-4d3e-9e41-8d6b575d8b26",
   "metadata": {},
   "outputs": [
    {
     "data": {
      "text/plain": [
       "316"
      ]
     },
     "execution_count": 11,
     "metadata": {},
     "output_type": "execute_result"
    }
   ],
   "source": [
    "s.sum()"
   ]
  },
  {
   "cell_type": "code",
   "execution_count": 13,
   "id": "9be57284-d61b-4d1b-ac8d-4b7d57b2a14c",
   "metadata": {},
   "outputs": [
    {
     "data": {
      "text/plain": [
       "5"
      ]
     },
     "execution_count": 13,
     "metadata": {},
     "output_type": "execute_result"
    }
   ],
   "source": [
    "s.size"
   ]
  },
  {
   "cell_type": "code",
   "execution_count": 14,
   "id": "2687b6f5-0463-4c9f-80f0-a85602d38364",
   "metadata": {},
   "outputs": [
    {
     "data": {
      "text/plain": [
       "63.2"
      ]
     },
     "execution_count": 14,
     "metadata": {},
     "output_type": "execute_result"
    }
   ],
   "source": [
    "s.mean()"
   ]
  },
  {
   "cell_type": "code",
   "execution_count": 15,
   "id": "c7742cf9-ba25-4239-9385-93461bd0bb6e",
   "metadata": {},
   "outputs": [
    {
     "data": {
      "text/plain": [
       "58.0"
      ]
     },
     "execution_count": 15,
     "metadata": {},
     "output_type": "execute_result"
    }
   ],
   "source": [
    "s.median()"
   ]
  },
  {
   "cell_type": "code",
   "execution_count": 17,
   "id": "938497c9-71e0-48cf-a454-9f022fc86ce8",
   "metadata": {},
   "outputs": [
    {
     "data": {
      "text/plain": [
       "0    51\n",
       "1    56\n",
       "2    58\n",
       "3    73\n",
       "4    78\n",
       "dtype: int64"
      ]
     },
     "execution_count": 17,
     "metadata": {},
     "output_type": "execute_result"
    }
   ],
   "source": [
    "s.mode()"
   ]
  },
  {
   "cell_type": "code",
   "execution_count": null,
   "id": "de689b3c-ad2f-4a01-b2cf-53c8867c6def",
   "metadata": {},
   "outputs": [],
   "source": []
  }
 ],
 "metadata": {
  "kernelspec": {
   "display_name": "Python 3 (ipykernel)",
   "language": "python",
   "name": "python3"
  },
  "language_info": {
   "codemirror_mode": {
    "name": "ipython",
    "version": 3
   },
   "file_extension": ".py",
   "mimetype": "text/x-python",
   "name": "python",
   "nbconvert_exporter": "python",
   "pygments_lexer": "ipython3",
   "version": "3.10.6"
  }
 },
 "nbformat": 4,
 "nbformat_minor": 5
}
